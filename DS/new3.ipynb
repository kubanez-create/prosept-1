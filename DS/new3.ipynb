{
 "cells": [
  {
   "cell_type": "code",
   "execution_count": 1,
   "id": "initial_id",
   "metadata": {
    "collapsed": true,
    "ExecuteTime": {
     "end_time": "2023-11-28T17:55:15.375043Z",
     "start_time": "2023-11-28T17:55:13.173163Z"
    }
   },
   "outputs": [
    {
     "name": "stderr",
     "output_type": "stream",
     "text": [
      "/var/folders/bq/w9mfn2pd17s1yh2fbrn4ghqr0000gn/T/ipykernel_10657/2047108554.py:19: FutureWarning: Setting an item of incompatible dtype is deprecated and will raise in a future error of pandas. Value 'unknown' has dtype incompatible with float64, please explicitly cast to a compatible dtype first.\n",
      "  marketing_product.fillna('unknown', inplace=True)\n"
     ]
    }
   ],
   "source": [
    "import re\n",
    "import string\n",
    "\n",
    "import pandas as pd\n",
    "import numpy as np\n",
    "from nltk.corpus import stopwords\n",
    "import torch\n",
    "from tqdm import tqdm\n",
    "from typing import List\n",
    "from sentence_transformers import SentenceTransformer, util\n"
   ]
  },
  {
   "cell_type": "code",
   "execution_count": null,
   "outputs": [],
   "source": [
    "marketing_productdealerkey = pd.read_csv('data/marketing_productdealerkey.csv', sep=';', quotechar='\"', index_col='id')\n",
    "marketing_product = pd.read_csv('data/marketing_product.csv', sep=';', index_col=0)\n",
    "marketing_dealerprice = pd.read_csv('data/marketing_dealerprice.csv', sep=';', index_col='id')\n",
    "marketing_dealer = pd.read_csv('data/marketing_dealer.csv', sep=';')\n",
    "marketing_product.dropna(subset=['name'], inplace=True)\n",
    "marketing_product = marketing_product[marketing_product.name != '   ']\n",
    "marketing_product.fillna('unknown', inplace=True)"
   ],
   "metadata": {
    "collapsed": false
   },
   "id": "994b93cdbd335774"
  },
  {
   "cell_type": "code",
   "execution_count": 2,
   "outputs": [],
   "source": [
    "from preprocess import clean_text_prosept, clean_text_dealer\n",
    "import metric"
   ],
   "metadata": {
    "collapsed": false,
    "ExecuteTime": {
     "end_time": "2023-11-28T17:55:17.464095Z",
     "start_time": "2023-11-28T17:55:17.406160Z"
    }
   },
   "id": "72bd296aaa627b0a"
  },
  {
   "cell_type": "code",
   "execution_count": 3,
   "outputs": [],
   "source": [
    "model = SentenceTransformer('sentence-transformers/LaBSE')"
   ],
   "metadata": {
    "collapsed": false,
    "ExecuteTime": {
     "end_time": "2023-11-28T17:55:25.565126Z",
     "start_time": "2023-11-28T17:55:18.365713Z"
    }
   },
   "id": "2e06d100f8dded91"
  },
  {
   "cell_type": "code",
   "execution_count": 4,
   "outputs": [],
   "source": [
    "product_name = marketing_product.name\n",
    "product_corpus = clean_text_prosept(product_name)\n",
    "corpus_embeddings_new = model.encode(product_corpus.values, convert_to_tensor=True)"
   ],
   "metadata": {
    "collapsed": false,
    "ExecuteTime": {
     "end_time": "2023-11-28T17:55:28.209862Z",
     "start_time": "2023-11-28T17:55:25.583584Z"
    }
   },
   "id": "2f1d916294beef74"
  },
  {
   "cell_type": "code",
   "execution_count": 5,
   "outputs": [],
   "source": [
    "dealer_name = marketing_dealerprice.product_name\n",
    "dealer_corpus = clean_text_dealer(dealer_name)"
   ],
   "metadata": {
    "collapsed": false,
    "ExecuteTime": {
     "end_time": "2023-11-28T17:55:28.736386Z",
     "start_time": "2023-11-28T17:55:28.264494Z"
    }
   },
   "id": "85681f8d8f4401fd"
  },
  {
   "cell_type": "code",
   "execution_count": 6,
   "outputs": [
    {
     "name": "stderr",
     "output_type": "stream",
     "text": [
      "100%|██████████| 20416/20416 [13:53<00:00, 24.50it/s] \n"
     ]
    },
    {
     "data": {
      "text/plain": "0.95"
     },
     "execution_count": 6,
     "metadata": {},
     "output_type": "execute_result"
    }
   ],
   "source": [
    "accuracy = metric.recommendations_for_metric(model, corpus_embeddings_new, dealer_corpus, marketing_dealerprice, marketing_productdealerkey, marketing_product, k=5)\n",
    "accuracy"
   ],
   "metadata": {
    "collapsed": false,
    "ExecuteTime": {
     "end_time": "2023-11-28T18:09:23.430786Z",
     "start_time": "2023-11-28T17:55:30.190620Z"
    }
   },
   "id": "56f32467e59df4ef"
  },
  {
   "cell_type": "code",
   "execution_count": 7,
   "outputs": [
    {
     "name": "stdout",
     "output_type": "stream",
     "text": [
      "Query: Грунт АКВАИЗОЛ Prosept влагоизолирующий, готовый состав 3 л\n",
      "--------------------------------------------------\n",
      "Есть совпадение\n",
      "--------------------------------------------------\n"
     ]
    },
    {
     "data": {
      "text/plain": "      id article           ean_13  \\\n340  381   048-3  4680008147899.0   \n482  382  048-10  4680008147905.0   \n320  378   047-3  4680008147875.0   \n\n                                                  name   cost  \\\n340  Грунт АКВАИЗОЛ, влагоизолирующий,готовый соста...  151.0   \n482  Грунт АКВАИЗОЛ, влагоизолирующий,готовый соста...  404.0   \n320     Грунт АКВАИЗОЛ, голубой, концентрат  1:4 / 3 л  475.0   \n\n    recommended_price category_id  \\\n340             342.0        26.0   \n482             911.0        26.0   \n320            1071.0        26.0   \n\n                                          ozon_name  \\\n340   Грунт влагоизолирующий PROSEPT Акваизол, 3 л.   \n482  Грунт влагоизолирующий PROSEPT Акваизол, 10 л.   \n320   Грунт влагоизолирующий PROSEPT Акваизол, 3 л.   \n\n                                            name_1c  \\\n340   Грунт влагоизолирующий PROSEPT Акваизол, 3 л.   \n482  Грунт влагоизолирующий PROSEPT Акваизол, 10 л.   \n320   Грунт влагоизолирующий PROSEPT Акваизол, 3 л.   \n\n                                            wb_name ozon_article   wb_article  \\\n340   Грунт влагоизолирующий PROSEPT Акваизол, 3 л.  453007297.0  149699643.0   \n482  Грунт влагоизолирующий PROSEPT Акваизол, 10 л.  189522794.0  149699642.0   \n320   Грунт влагоизолирующий PROSEPT Акваизол, 3 л.  453027209.0  149699636.0   \n\n    ym_article wb_article_td  \n340      048-3       unknown  \n482     048-10       unknown  \n320      047-3       unknown  ",
      "text/html": "<div>\n<style scoped>\n    .dataframe tbody tr th:only-of-type {\n        vertical-align: middle;\n    }\n\n    .dataframe tbody tr th {\n        vertical-align: top;\n    }\n\n    .dataframe thead th {\n        text-align: right;\n    }\n</style>\n<table border=\"1\" class=\"dataframe\">\n  <thead>\n    <tr style=\"text-align: right;\">\n      <th></th>\n      <th>id</th>\n      <th>article</th>\n      <th>ean_13</th>\n      <th>name</th>\n      <th>cost</th>\n      <th>recommended_price</th>\n      <th>category_id</th>\n      <th>ozon_name</th>\n      <th>name_1c</th>\n      <th>wb_name</th>\n      <th>ozon_article</th>\n      <th>wb_article</th>\n      <th>ym_article</th>\n      <th>wb_article_td</th>\n    </tr>\n  </thead>\n  <tbody>\n    <tr>\n      <th>340</th>\n      <td>381</td>\n      <td>048-3</td>\n      <td>4680008147899.0</td>\n      <td>Грунт АКВАИЗОЛ, влагоизолирующий,готовый соста...</td>\n      <td>151.0</td>\n      <td>342.0</td>\n      <td>26.0</td>\n      <td>Грунт влагоизолирующий PROSEPT Акваизол, 3 л.</td>\n      <td>Грунт влагоизолирующий PROSEPT Акваизол, 3 л.</td>\n      <td>Грунт влагоизолирующий PROSEPT Акваизол, 3 л.</td>\n      <td>453007297.0</td>\n      <td>149699643.0</td>\n      <td>048-3</td>\n      <td>unknown</td>\n    </tr>\n    <tr>\n      <th>482</th>\n      <td>382</td>\n      <td>048-10</td>\n      <td>4680008147905.0</td>\n      <td>Грунт АКВАИЗОЛ, влагоизолирующий,готовый соста...</td>\n      <td>404.0</td>\n      <td>911.0</td>\n      <td>26.0</td>\n      <td>Грунт влагоизолирующий PROSEPT Акваизол, 10 л.</td>\n      <td>Грунт влагоизолирующий PROSEPT Акваизол, 10 л.</td>\n      <td>Грунт влагоизолирующий PROSEPT Акваизол, 10 л.</td>\n      <td>189522794.0</td>\n      <td>149699642.0</td>\n      <td>048-10</td>\n      <td>unknown</td>\n    </tr>\n    <tr>\n      <th>320</th>\n      <td>378</td>\n      <td>047-3</td>\n      <td>4680008147875.0</td>\n      <td>Грунт АКВАИЗОЛ, голубой, концентрат  1:4 / 3 л</td>\n      <td>475.0</td>\n      <td>1071.0</td>\n      <td>26.0</td>\n      <td>Грунт влагоизолирующий PROSEPT Акваизол, 3 л.</td>\n      <td>Грунт влагоизолирующий PROSEPT Акваизол, 3 л.</td>\n      <td>Грунт влагоизолирующий PROSEPT Акваизол, 3 л.</td>\n      <td>453027209.0</td>\n      <td>149699636.0</td>\n      <td>047-3</td>\n      <td>unknown</td>\n    </tr>\n  </tbody>\n</table>\n</div>"
     },
     "metadata": {},
     "output_type": "display_data"
    }
   ],
   "source": [
    "metric.show_recommendations(marketing_dealerprice, marketing_productdealerkey,\n",
    "                         marketing_product, dealer_product_key=18767, best_idx=metric.get_recommendations(model, corpus_embeddings_new, dealer_corpus, 18767))"
   ],
   "metadata": {
    "collapsed": false,
    "ExecuteTime": {
     "end_time": "2023-11-28T18:10:07.254734Z",
     "start_time": "2023-11-28T18:10:07.156882Z"
    }
   },
   "id": "85fa93003ce8e288"
  },
  {
   "cell_type": "code",
   "execution_count": 9,
   "outputs": [],
   "source": [
    "import pickle"
   ],
   "metadata": {
    "collapsed": false,
    "ExecuteTime": {
     "end_time": "2023-11-28T18:10:18.934566Z",
     "start_time": "2023-11-28T18:10:18.900973Z"
    }
   },
   "id": "95212f43e0ade2b0"
  },
  {
   "cell_type": "code",
   "execution_count": 10,
   "outputs": [],
   "source": [
    "# Open a file and use dump() \n",
    "with open('labse_model.pkl', 'wb') as file: \n",
    "      \n",
    "    # A new file will be created \n",
    "    pickle.dump(model, file) "
   ],
   "metadata": {
    "collapsed": false,
    "ExecuteTime": {
     "end_time": "2023-11-28T18:10:22.780559Z",
     "start_time": "2023-11-28T18:10:19.400748Z"
    }
   },
   "id": "64939b2695e8ae06"
  },
  {
   "cell_type": "code",
   "execution_count": 11,
   "outputs": [],
   "source": [
    "# Open a file and use dump() \n",
    "with open('corpus_embeddings.pkl', 'wb') as file: \n",
    "      \n",
    "    # A new file will be created \n",
    "    pickle.dump(corpus_embeddings_new, file) "
   ],
   "metadata": {
    "collapsed": false,
    "ExecuteTime": {
     "end_time": "2023-11-28T18:10:40.389740Z",
     "start_time": "2023-11-28T18:10:40.326501Z"
    }
   },
   "id": "33d6a6702bcd464e"
  },
  {
   "cell_type": "code",
   "execution_count": 24,
   "outputs": [],
   "source": [
    "import model2"
   ],
   "metadata": {
    "collapsed": false,
    "ExecuteTime": {
     "end_time": "2023-11-28T18:17:32.406044Z",
     "start_time": "2023-11-28T18:17:32.391224Z"
    }
   },
   "id": "f252b3bf619ea3d8"
  },
  {
   "cell_type": "code",
   "execution_count": 27,
   "outputs": [
    {
     "name": "stdout",
     "output_type": "stream",
     "text": [
      "Модель успешно загружена\n",
      "Эмбеддинги успешно загружены\n"
     ]
    },
    {
     "name": "stderr",
     "output_type": "stream",
     "text": [
      "/Users/user/PycharmProjects/percept/venv/lib/python3.11/site-packages/sentence_transformers/SentenceTransformer.py:157: FutureWarning: Series.__getitem__ treating keys as positions is deprecated. In a future version, integer keys will always be treated as labels (consistent with DataFrame behavior). To access a value by position, use `ser.iloc[pos]`\n",
      "  sentences_sorted = [sentences[idx] for idx in length_sorted_idx]\n"
     ]
    }
   ],
   "source": [
    "best_indx = model2.get_recommendations(marketing_dealerprice,\n",
    "                        dealer_product_key=187, k=3)"
   ],
   "metadata": {
    "collapsed": false,
    "ExecuteTime": {
     "end_time": "2023-11-28T18:18:29.616303Z",
     "start_time": "2023-11-28T18:18:26.365399Z"
    }
   },
   "id": "5a70e18b6cee4f74"
  },
  {
   "cell_type": "code",
   "execution_count": 28,
   "outputs": [
    {
     "name": "stdout",
     "output_type": "stream",
     "text": [
      "Query: Просепт Eco Ultra невымываемый антисептик (5 л)\n",
      "--------------------------------------------------\n",
      "Есть совпадение\n",
      "--------------------------------------------------\n"
     ]
    },
    {
     "data": {
      "text/plain": "      id article           ean_13  \\\n475  271   017-5  4680008140746.0   \n201  275   062-5  4680008148957.0   \n345  272  017-10  4680008140739.0   \n\n                                                  name   cost  \\\n475  Антисептик невымываемыйPROSEPT ECO ULTRAготовы...  260.0   \n201              Антисептик ECO ULTRA коричневый / 5 л  260.0   \n345  Антисептик невымываемыйPROSEPT ECO ULTRAготовы...  476.0   \n\n    recommended_price category_id  \\\n475             620.0        20.0   \n201             620.0        20.0   \n345            1136.0        20.0   \n\n                                             ozon_name  \\\n475  Невымываемый антисептик для ответственных конс...   \n201    Антисептик невымываемый PROSEPT ECO ULTRA, 5 л.   \n345  Невымываемый антисептик для ответственных конс...   \n\n                                               name_1c  \\\n475  Невымываемый антисептик для ответственных конс...   \n201              Антисептик ECO ULTRA коричневый / 5 л   \n345  Невымываемый антисептик для ответственных конс...   \n\n                                               wb_name ozon_article  \\\n475  Невымываемый антисептик для ответственных конс...  189522713.0   \n201    Антисептик невымываемый PROSEPT ECO ULTRA, 5 л.  253565302.0   \n345  Невымываемый антисептик для ответственных конс...  189522719.0   \n\n      wb_article ym_article wb_article_td  \n475  150033479.0      017-5       unknown  \n201  150033509.0      062-5       unknown  \n345  150033483.0     017-10       unknown  ",
      "text/html": "<div>\n<style scoped>\n    .dataframe tbody tr th:only-of-type {\n        vertical-align: middle;\n    }\n\n    .dataframe tbody tr th {\n        vertical-align: top;\n    }\n\n    .dataframe thead th {\n        text-align: right;\n    }\n</style>\n<table border=\"1\" class=\"dataframe\">\n  <thead>\n    <tr style=\"text-align: right;\">\n      <th></th>\n      <th>id</th>\n      <th>article</th>\n      <th>ean_13</th>\n      <th>name</th>\n      <th>cost</th>\n      <th>recommended_price</th>\n      <th>category_id</th>\n      <th>ozon_name</th>\n      <th>name_1c</th>\n      <th>wb_name</th>\n      <th>ozon_article</th>\n      <th>wb_article</th>\n      <th>ym_article</th>\n      <th>wb_article_td</th>\n    </tr>\n  </thead>\n  <tbody>\n    <tr>\n      <th>475</th>\n      <td>271</td>\n      <td>017-5</td>\n      <td>4680008140746.0</td>\n      <td>Антисептик невымываемыйPROSEPT ECO ULTRAготовы...</td>\n      <td>260.0</td>\n      <td>620.0</td>\n      <td>20.0</td>\n      <td>Невымываемый антисептик для ответственных конс...</td>\n      <td>Невымываемый антисептик для ответственных конс...</td>\n      <td>Невымываемый антисептик для ответственных конс...</td>\n      <td>189522713.0</td>\n      <td>150033479.0</td>\n      <td>017-5</td>\n      <td>unknown</td>\n    </tr>\n    <tr>\n      <th>201</th>\n      <td>275</td>\n      <td>062-5</td>\n      <td>4680008148957.0</td>\n      <td>Антисептик ECO ULTRA коричневый / 5 л</td>\n      <td>260.0</td>\n      <td>620.0</td>\n      <td>20.0</td>\n      <td>Антисептик невымываемый PROSEPT ECO ULTRA, 5 л.</td>\n      <td>Антисептик ECO ULTRA коричневый / 5 л</td>\n      <td>Антисептик невымываемый PROSEPT ECO ULTRA, 5 л.</td>\n      <td>253565302.0</td>\n      <td>150033509.0</td>\n      <td>062-5</td>\n      <td>unknown</td>\n    </tr>\n    <tr>\n      <th>345</th>\n      <td>272</td>\n      <td>017-10</td>\n      <td>4680008140739.0</td>\n      <td>Антисептик невымываемыйPROSEPT ECO ULTRAготовы...</td>\n      <td>476.0</td>\n      <td>1136.0</td>\n      <td>20.0</td>\n      <td>Невымываемый антисептик для ответственных конс...</td>\n      <td>Невымываемый антисептик для ответственных конс...</td>\n      <td>Невымываемый антисептик для ответственных конс...</td>\n      <td>189522719.0</td>\n      <td>150033483.0</td>\n      <td>017-10</td>\n      <td>unknown</td>\n    </tr>\n  </tbody>\n</table>\n</div>"
     },
     "metadata": {},
     "output_type": "display_data"
    }
   ],
   "source": [
    "metric.show_recommendations(marketing_dealerprice, marketing_productdealerkey,\n",
    "                         marketing_product, 187, best_indx)"
   ],
   "metadata": {
    "collapsed": false,
    "ExecuteTime": {
     "end_time": "2023-11-28T18:18:46.715097Z",
     "start_time": "2023-11-28T18:18:46.683300Z"
    }
   },
   "id": "9c6ddb57ee2163cb"
  },
  {
   "cell_type": "code",
   "execution_count": null,
   "outputs": [],
   "source": [],
   "metadata": {
    "collapsed": false
   },
   "id": "2cff40e9c4851361"
  }
 ],
 "metadata": {
  "kernelspec": {
   "display_name": "Python 3",
   "language": "python",
   "name": "python3"
  },
  "language_info": {
   "codemirror_mode": {
    "name": "ipython",
    "version": 2
   },
   "file_extension": ".py",
   "mimetype": "text/x-python",
   "name": "python",
   "nbconvert_exporter": "python",
   "pygments_lexer": "ipython2",
   "version": "2.7.6"
  }
 },
 "nbformat": 4,
 "nbformat_minor": 5
}
